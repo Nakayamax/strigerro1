{
 "cells": [
  {
   "cell_type": "code",
   "execution_count": 6,
   "id": "d3b1a521-af46-4948-a08f-8249558f3535",
   "metadata": {},
   "outputs": [
    {
     "name": "stdout",
     "output_type": "stream",
     "text": [
      "o faturamento da loja foi faturamento\n"
     ]
    }
   ],
   "source": [
    "faturamento = 1000\n",
    "print( 'o faturamento da loja foi ' + 'faturamento')"
   ]
  },
  {
   "cell_type": "markdown",
   "id": "7e51e2b5-1699-43b1-926c-7045e6d82b91",
   "metadata": {},
   "source": [
    "Porem eu quero o valor!"
   ]
  },
  {
   "cell_type": "code",
   "execution_count": 8,
   "id": "07a9a088-e78b-46a1-8465-d1ccb8a0381a",
   "metadata": {},
   "outputs": [
    {
     "ename": "SyntaxError",
     "evalue": "unterminated string literal (detected at line 2) (2709248106.py, line 2)",
     "output_type": "error",
     "traceback": [
      "\u001b[0;36m  Cell \u001b[0;32mIn[8], line 2\u001b[0;36m\u001b[0m\n\u001b[0;31m    print(`O faturamento da loja foi ' + faturamento)\u001b[0m\n\u001b[0m                                     ^\u001b[0m\n\u001b[0;31mSyntaxError\u001b[0m\u001b[0;31m:\u001b[0m unterminated string literal (detected at line 2)\n"
     ]
    }
   ],
   "source": [
    "faturamento = 1000\n",
    "print('O faturamento da loja foi ' + faturamento) "
   ]
  },
  {
   "cell_type": "markdown",
   "id": "f885bd07-fa79-4a23-ab9a-661ccbbf1a2f",
   "metadata": {},
   "source": [
    "Vamos concertezar "
   ]
  },
  {
   "cell_type": "code",
   "execution_count": 10,
   "id": "9965c731-e768-49b0-828d-f534acf9418f",
   "metadata": {},
   "outputs": [
    {
     "data": {
      "text/plain": [
       "int"
      ]
     },
     "execution_count": 10,
     "metadata": {},
     "output_type": "execute_result"
    }
   ],
   "source": [
    "faturamento = 1000\n",
    "type(faturamento)\n",
    "#print('O faturamento da loja foi ' + faturamento)"
   ]
  },
  {
   "cell_type": "markdown",
   "id": "9e328c7a-2910-48b0-9799-72fd23e55b2f",
   "metadata": {},
   "source": [
    "Não se pode concatenar um texto com um numero inteiro, preciso transforma o numero inteiro em uma string. Se eu transformar o numero inteiro em texto é possivel transformar."
   ]
  },
  {
   "cell_type": "code",
   "execution_count": 16,
   "id": "f2f6f8db-8918-4971-8ea4-a4acca951054",
   "metadata": {},
   "outputs": [
    {
     "name": "stdout",
     "output_type": "stream",
     "text": [
      "o faturamento da loja foi 1500\n",
      "o custo da loja foi 500\n",
      "assim, o lucro da loja foi de 1000 reais\n"
     ]
    }
   ],
   "source": [
    "faturamento = 1500\n",
    "custo = 500\n",
    "lucro = faturamento - custo\n",
    "\n",
    "print('o faturamento da loja foi ' + str(faturamento))\n",
    "print('o custo da loja foi ' + str(custo))\n",
    "print('assim, o lucro da loja foi de ' + str(lucro) + ' reais')"
   ]
  },
  {
   "cell_type": "markdown",
   "id": "480d90bf-9b91-4503-bfba-0ee5b5159f21",
   "metadata": {},
   "source": [
    "colocando tudo nome texto"
   ]
  },
  {
   "cell_type": "code",
   "execution_count": 28,
   "id": "17116fda-88e6-4d6c-b5d0-cd99d1ec04ce",
   "metadata": {},
   "outputs": [
    {
     "name": "stdout",
     "output_type": "stream",
     "text": [
      "o faturamento da loja foi 1500 o custo da loja foi 500 Assim, o lucro da loja foi de 1000 reais\n"
     ]
    }
   ],
   "source": [
    "faturamento = 1500\n",
    "custo = 500\n",
    "lucro = faturamento - custo\n",
    "\n",
    "print('o faturamento da loja foi ' + str(faturamento) + ' o custo da loja foi ' + str(custo) + ' Assim, o lucro da loja foi de ' + str(lucro) + ' reais')"
   ]
  },
  {
   "cell_type": "code",
   "execution_count": null,
   "id": "90205bf7-80fa-4088-83b8-9db124b6dde9",
   "metadata": {},
   "outputs": [],
   "source": []
  }
 ],
 "metadata": {
  "kernelspec": {
   "display_name": "Python 3 (ipykernel)",
   "language": "python",
   "name": "python3"
  },
  "language_info": {
   "codemirror_mode": {
    "name": "ipython",
    "version": 3
   },
   "file_extension": ".py",
   "mimetype": "text/x-python",
   "name": "python",
   "nbconvert_exporter": "python",
   "pygments_lexer": "ipython3",
   "version": "3.12.4"
  }
 },
 "nbformat": 4,
 "nbformat_minor": 5
}
